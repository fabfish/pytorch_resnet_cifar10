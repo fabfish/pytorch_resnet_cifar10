{
 "cells": [
  {
   "cell_type": "code",
   "execution_count": 1,
   "metadata": {},
   "outputs": [
    {
     "ename": "AttributeError",
     "evalue": "'NoneType' object has no attribute 'path'",
     "output_type": "error",
     "traceback": [
      "\u001b[0;31m---------------------------------------------------------------------------\u001b[0m",
      "\u001b[0;31mAttributeError\u001b[0m                            Traceback (most recent call last)",
      "Cell \u001b[0;32mIn[1], line 4\u001b[0m\n\u001b[1;32m      1\u001b[0m \u001b[39mimport\u001b[39;00m \u001b[39mwandb\u001b[39;00m\n\u001b[1;32m      3\u001b[0m \u001b[39m# 从W&B中获取实验数据\u001b[39;00m\n\u001b[0;32m----> 4\u001b[0m runs \u001b[39m=\u001b[39m wandb\u001b[39m.\u001b[39mApi()\u001b[39m.\u001b[39mrun(\u001b[39mf\u001b[39m\u001b[39m\"\u001b[39m\u001b[39m{\u001b[39;00mwandb\u001b[39m.\u001b[39;49mrun\u001b[39m.\u001b[39;49mpath\u001b[39m}\u001b[39;00m\u001b[39m/\u001b[39m\u001b[39m{\u001b[39;00mwandb\u001b[39m.\u001b[39mrun\u001b[39m.\u001b[39mid\u001b[39m}\u001b[39;00m\u001b[39m\"\u001b[39m)\n\u001b[1;32m      5\u001b[0m history \u001b[39m=\u001b[39m runs\u001b[39m.\u001b[39mhistory()\n\u001b[1;32m      7\u001b[0m \u001b[39m# 提取指标和时间数据\u001b[39;00m\n",
      "\u001b[0;31mAttributeError\u001b[0m: 'NoneType' object has no attribute 'path'"
     ]
    }
   ],
   "source": [
    "import wandb\n",
    "\n",
    "# 从W&B中获取实验数据\n",
    "runs = wandb.Api().run(f\"{wandb.run.path}/{wandb.run.id}\")\n",
    "history = runs.history()\n",
    "\n",
    "# 提取指标和时间数据\n",
    "losses = history['loss']\n",
    "accuracies = history['accuracy']\n",
    "times = history['wallclocktime']\n",
    "\n",
    "# 绘制图表\n",
    "plt.plot(times, losses, label='Loss')\n",
    "plt.plot(times, accuracies, label='Accuracy')\n",
    "plt.xlabel('Wall Clock Time (s)')\n",
    "plt.ylabel('Metrics')\n",
    "plt.legend()\n",
    "plt.show()\n"
   ]
  }
 ],
 "metadata": {
  "kernelspec": {
   "display_name": "eva",
   "language": "python",
   "name": "python3"
  },
  "language_info": {
   "codemirror_mode": {
    "name": "ipython",
    "version": 3
   },
   "file_extension": ".py",
   "mimetype": "text/x-python",
   "name": "python",
   "nbconvert_exporter": "python",
   "pygments_lexer": "ipython3",
   "version": "3.9.16"
  },
  "orig_nbformat": 4
 },
 "nbformat": 4,
 "nbformat_minor": 2
}
